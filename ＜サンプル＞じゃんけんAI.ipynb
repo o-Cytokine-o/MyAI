{
 "cells": [
  {
   "cell_type": "code",
   "execution_count": 1,
   "metadata": {},
   "outputs": [
    {
     "name": "stderr",
     "output_type": "stream",
     "text": [
      "C:\\Users\\NE-A-U\\Anaconda3\\envs\\tensorflow-gpu\\lib\\site-packages\\tensorflow\\python\\framework\\dtypes.py:516: FutureWarning: Passing (type, 1) or '1type' as a synonym of type is deprecated; in a future version of numpy, it will be understood as (type, (1,)) / '(1,)type'.\n",
      "  _np_qint8 = np.dtype([(\"qint8\", np.int8, 1)])\n",
      "C:\\Users\\NE-A-U\\Anaconda3\\envs\\tensorflow-gpu\\lib\\site-packages\\tensorflow\\python\\framework\\dtypes.py:517: FutureWarning: Passing (type, 1) or '1type' as a synonym of type is deprecated; in a future version of numpy, it will be understood as (type, (1,)) / '(1,)type'.\n",
      "  _np_quint8 = np.dtype([(\"quint8\", np.uint8, 1)])\n",
      "C:\\Users\\NE-A-U\\Anaconda3\\envs\\tensorflow-gpu\\lib\\site-packages\\tensorflow\\python\\framework\\dtypes.py:518: FutureWarning: Passing (type, 1) or '1type' as a synonym of type is deprecated; in a future version of numpy, it will be understood as (type, (1,)) / '(1,)type'.\n",
      "  _np_qint16 = np.dtype([(\"qint16\", np.int16, 1)])\n",
      "C:\\Users\\NE-A-U\\Anaconda3\\envs\\tensorflow-gpu\\lib\\site-packages\\tensorflow\\python\\framework\\dtypes.py:519: FutureWarning: Passing (type, 1) or '1type' as a synonym of type is deprecated; in a future version of numpy, it will be understood as (type, (1,)) / '(1,)type'.\n",
      "  _np_quint16 = np.dtype([(\"quint16\", np.uint16, 1)])\n",
      "C:\\Users\\NE-A-U\\Anaconda3\\envs\\tensorflow-gpu\\lib\\site-packages\\tensorflow\\python\\framework\\dtypes.py:520: FutureWarning: Passing (type, 1) or '1type' as a synonym of type is deprecated; in a future version of numpy, it will be understood as (type, (1,)) / '(1,)type'.\n",
      "  _np_qint32 = np.dtype([(\"qint32\", np.int32, 1)])\n",
      "C:\\Users\\NE-A-U\\Anaconda3\\envs\\tensorflow-gpu\\lib\\site-packages\\tensorflow\\python\\framework\\dtypes.py:525: FutureWarning: Passing (type, 1) or '1type' as a synonym of type is deprecated; in a future version of numpy, it will be understood as (type, (1,)) / '(1,)type'.\n",
      "  np_resource = np.dtype([(\"resource\", np.ubyte, 1)])\n",
      "C:\\Users\\NE-A-U\\Anaconda3\\envs\\tensorflow-gpu\\lib\\site-packages\\tensorboard\\compat\\tensorflow_stub\\dtypes.py:541: FutureWarning: Passing (type, 1) or '1type' as a synonym of type is deprecated; in a future version of numpy, it will be understood as (type, (1,)) / '(1,)type'.\n",
      "  _np_qint8 = np.dtype([(\"qint8\", np.int8, 1)])\n",
      "C:\\Users\\NE-A-U\\Anaconda3\\envs\\tensorflow-gpu\\lib\\site-packages\\tensorboard\\compat\\tensorflow_stub\\dtypes.py:542: FutureWarning: Passing (type, 1) or '1type' as a synonym of type is deprecated; in a future version of numpy, it will be understood as (type, (1,)) / '(1,)type'.\n",
      "  _np_quint8 = np.dtype([(\"quint8\", np.uint8, 1)])\n",
      "C:\\Users\\NE-A-U\\Anaconda3\\envs\\tensorflow-gpu\\lib\\site-packages\\tensorboard\\compat\\tensorflow_stub\\dtypes.py:543: FutureWarning: Passing (type, 1) or '1type' as a synonym of type is deprecated; in a future version of numpy, it will be understood as (type, (1,)) / '(1,)type'.\n",
      "  _np_qint16 = np.dtype([(\"qint16\", np.int16, 1)])\n",
      "C:\\Users\\NE-A-U\\Anaconda3\\envs\\tensorflow-gpu\\lib\\site-packages\\tensorboard\\compat\\tensorflow_stub\\dtypes.py:544: FutureWarning: Passing (type, 1) or '1type' as a synonym of type is deprecated; in a future version of numpy, it will be understood as (type, (1,)) / '(1,)type'.\n",
      "  _np_quint16 = np.dtype([(\"quint16\", np.uint16, 1)])\n",
      "C:\\Users\\NE-A-U\\Anaconda3\\envs\\tensorflow-gpu\\lib\\site-packages\\tensorboard\\compat\\tensorflow_stub\\dtypes.py:545: FutureWarning: Passing (type, 1) or '1type' as a synonym of type is deprecated; in a future version of numpy, it will be understood as (type, (1,)) / '(1,)type'.\n",
      "  _np_qint32 = np.dtype([(\"qint32\", np.int32, 1)])\n",
      "C:\\Users\\NE-A-U\\Anaconda3\\envs\\tensorflow-gpu\\lib\\site-packages\\tensorboard\\compat\\tensorflow_stub\\dtypes.py:550: FutureWarning: Passing (type, 1) or '1type' as a synonym of type is deprecated; in a future version of numpy, it will be understood as (type, (1,)) / '(1,)type'.\n",
      "  np_resource = np.dtype([(\"resource\", np.ubyte, 1)])\n"
     ]
    }
   ],
   "source": [
    "import numpy as np\n",
    "import tensorflow as tf\n",
    "from tensorflow import keras\n",
    "from tensorflow.keras import layers"
   ]
  },
  {
   "cell_type": "code",
   "execution_count": 100,
   "metadata": {},
   "outputs": [],
   "source": [
    "janken_array = np.array([[1,0,0],[0,1,0],[0,0,1]])"
   ]
  },
  {
   "cell_type": "code",
   "execution_count": 101,
   "metadata": {},
   "outputs": [],
   "source": [
    "janken_class = ['グー','チョキ','パー']"
   ]
  },
  {
   "cell_type": "code",
   "execution_count": 102,
   "metadata": {},
   "outputs": [],
   "source": [
    "#過去何回分の手を覚えているか\n",
    "n = 3"
   ]
  },
  {
   "cell_type": "code",
   "execution_count": 103,
   "metadata": {},
   "outputs": [],
   "source": [
    "Jprev = np.zeros(3*n*2)"
   ]
  },
  {
   "cell_type": "code",
   "execution_count": 104,
   "metadata": {},
   "outputs": [],
   "source": [
    "#過去の手をランダムに初期化\n",
    "for i in range(2*n):\n",
    "    j = np.random.randint(0,3)\n",
    "    Jprev[3*i:3*i+3] = janken_array[j]"
   ]
  },
  {
   "cell_type": "code",
   "execution_count": 105,
   "metadata": {},
   "outputs": [],
   "source": [
    "#現在の手をランダムに初期化\n",
    "j = janken_array[np.random.randint(0,3)]"
   ]
  },
  {
   "cell_type": "code",
   "execution_count": 106,
   "metadata": {},
   "outputs": [],
   "source": [
    "Jprev_set = np.array([Jprev])\n",
    "Jnow_set = np.array([j])"
   ]
  },
  {
   "cell_type": "code",
   "execution_count": 107,
   "metadata": {},
   "outputs": [],
   "source": [
    "def decord_janken(arr):\n",
    "    \n",
    "    for i,k in enumerate(janken_array):\n",
    "        if all(arr == k):\n",
    "            return i"
   ]
  },
  {
   "cell_type": "code",
   "execution_count": 125,
   "metadata": {},
   "outputs": [],
   "source": [
    "def create_model():\n",
    "    #モデルの初期化\n",
    "    model = keras.Sequential()\n",
    "    \n",
    "    model.add(keras.layers.Dense(units=50,\n",
    "                                input_dim=Jprev_set.shape[1],\n",
    "                                kernel_initializer='glorot_uniform',\n",
    "                                bias_initializer='zeros',\n",
    "                                activation='tanh'))\n",
    "    \n",
    "    model.add(keras.layers.Dense(units=50,\n",
    "                                input_dim=50,\n",
    "                                kernel_initializer='glorot_uniform',\n",
    "                                bias_initializer='zeros',\n",
    "                                activation='tanh'))\n",
    "    \n",
    "    model.add(keras.layers.Dense(units=3,\n",
    "                                input_dim=50,\n",
    "                                kernel_initializer='glorot_uniform',\n",
    "                                bias_initializer='zeros',\n",
    "                                activation='softmax'))\n",
    "    \n",
    "    optimizer = keras.optimizers.Adam()\n",
    "    \n",
    "    model.compile(optimizer=optimizer,loss='sparse_categorical_crossentropy')\n",
    "    \n",
    "    \n",
    "    return model"
   ]
  },
  {
   "cell_type": "code",
   "execution_count": 126,
   "metadata": {},
   "outputs": [],
   "source": [
    "model = create_model()"
   ]
  },
  {
   "cell_type": "code",
   "execution_count": 127,
   "metadata": {},
   "outputs": [
    {
     "name": "stdout",
     "output_type": "stream",
     "text": [
      "Model: \"sequential_11\"\n",
      "_________________________________________________________________\n",
      "Layer (type)                 Output Shape              Param #   \n",
      "=================================================================\n",
      "dense_14 (Dense)             (None, 50)                950       \n",
      "_________________________________________________________________\n",
      "dense_15 (Dense)             (None, 50)                2550      \n",
      "_________________________________________________________________\n",
      "dense_16 (Dense)             (None, 3)                 153       \n",
      "=================================================================\n",
      "Total params: 3,653\n",
      "Trainable params: 3,653\n",
      "Non-trainable params: 0\n",
      "_________________________________________________________________\n"
     ]
    }
   ],
   "source": [
    "model.summary()"
   ]
  },
  {
   "cell_type": "code",
   "execution_count": 113,
   "metadata": {},
   "outputs": [
    {
     "name": "stdout",
     "output_type": "stream",
     "text": [
      "\r",
      "1/1 [==============================] - 0s 153ms/sample - loss: 1.0554\n"
     ]
    }
   ],
   "source": [
    "history = model.fit(Jprev_set,Jnow_set)"
   ]
  },
  {
   "cell_type": "code",
   "execution_count": null,
   "metadata": {
    "scrolled": true
   },
   "outputs": [
    {
     "name": "stdout",
     "output_type": "stream",
     "text": [
      "1:グー、2:チョキ、3:パー\n",
      "1\n",
      "[1]\n",
      "あなた：グー, コンピュータ：グー\n",
      "あなたの勝ち: 0, 負け：0, あいこ： 1\n",
      "1/1 [==============================] - 0s 130ms/sample - loss: 1.6513\n",
      "2\n",
      "[1]\n",
      "あなた：チョキ, コンピュータ：グー\n",
      "あなたの勝ち: 0, 負け：1, あいこ： 1\n",
      "1/1 [==============================] - 0s 3ms/sample - loss: 0.8336\n",
      "13\n",
      "3\n",
      "[0]\n",
      "あなた：パー, コンピュータ：パー\n",
      "あなたの勝ち: 0, 負け：1, あいこ： 2\n",
      "1/1 [==============================] - 0s 3ms/sample - loss: 1.1369\n",
      "3\n",
      "[2]\n",
      "あなた：パー, コンピュータ：チョキ\n",
      "あなたの勝ち: 0, 負け：2, あいこ： 2\n",
      "1/1 [==============================] - 0s 3ms/sample - loss: 0.6748\n",
      "3\n",
      "[2]\n",
      "あなた：パー, コンピュータ：チョキ\n",
      "あなたの勝ち: 0, 負け：3, あいこ： 2\n",
      "1/1 [==============================] - 0s 2ms/sample - loss: 0.7542\n",
      "3\n",
      "[2]\n",
      "あなた：パー, コンピュータ：チョキ\n",
      "あなたの勝ち: 0, 負け：4, あいこ： 2\n",
      "1/1 [==============================] - 0s 2ms/sample - loss: 0.8886\n",
      "1\n",
      "[1]\n",
      "あなた：グー, コンピュータ：グー\n",
      "あなたの勝ち: 0, 負け：4, あいこ： 3\n",
      "1/1 [==============================] - 0s 2ms/sample - loss: 1.4517\n",
      "3\n",
      "[1]\n",
      "あなた：パー, コンピュータ：グー\n",
      "あなたの勝ち: 1, 負け：4, あいこ： 3\n",
      "1/1 [==============================] - 0s 3ms/sample - loss: 1.9218\n",
      "2\n",
      "[1]\n",
      "あなた：チョキ, コンピュータ：グー\n",
      "あなたの勝ち: 1, 負け：5, あいこ： 3\n",
      "1/1 [==============================] - 0s 3ms/sample - loss: 0.9731\n",
      "3\n",
      "[2]\n",
      "あなた：パー, コンピュータ：チョキ\n",
      "あなたの勝ち: 1, 負け：6, あいこ： 3\n",
      "1/1 [==============================] - 0s 3ms/sample - loss: 0.6083\n",
      "2\n",
      "[2]\n",
      "あなた：チョキ, コンピュータ：チョキ\n",
      "あなたの勝ち: 1, 負け：6, あいこ： 4\n",
      "1/1 [==============================] - 0s 2ms/sample - loss: 1.8929\n",
      "1\n",
      "[2]\n",
      "あなた：グー, コンピュータ：チョキ\n",
      "あなたの勝ち: 2, 負け：6, あいこ： 4\n",
      "1/1 [==============================] - 0s 3ms/sample - loss: 1.3677\n",
      "3\n",
      "[1]\n",
      "あなた：パー, コンピュータ：グー\n",
      "あなたの勝ち: 3, 負け：6, あいこ： 4\n",
      "1/1 [==============================] - 0s 2ms/sample - loss: 1.2969\n",
      "2\n",
      "[1]\n",
      "あなた：チョキ, コンピュータ：グー\n",
      "あなたの勝ち: 3, 負け：7, あいこ： 4\n",
      "1/1 [==============================] - 0s 3ms/sample - loss: 0.5416\n",
      "3\n",
      "[2]\n",
      "あなた：パー, コンピュータ：チョキ\n",
      "あなたの勝ち: 3, 負け：8, あいこ： 4\n",
      "1/1 [==============================] - 0s 2ms/sample - loss: 0.9496\n",
      "1\n",
      "[2]\n",
      "あなた：グー, コンピュータ：チョキ\n",
      "あなたの勝ち: 4, 負け：8, あいこ： 4\n",
      "1/1 [==============================] - 0s 3ms/sample - loss: 1.7009\n",
      "2\n",
      "[2]\n",
      "あなた：チョキ, コンピュータ：チョキ\n",
      "あなたの勝ち: 4, 負け：8, あいこ： 5\n",
      "1/1 [==============================] - 0s 3ms/sample - loss: 1.5498\n",
      "3\n",
      "[1]\n",
      "あなた：パー, コンピュータ：グー\n",
      "あなたの勝ち: 5, 負け：8, あいこ： 5\n",
      "1/1 [==============================] - 0s 2ms/sample - loss: 1.1818\n",
      "1\n",
      "[1]\n",
      "あなた：グー, コンピュータ：グー\n",
      "あなたの勝ち: 5, 負け：8, あいこ： 6\n",
      "1/1 [==============================] - 0s 3ms/sample - loss: 1.5089\n",
      "2\n",
      "[2]\n",
      "あなた：チョキ, コンピュータ：チョキ\n",
      "あなたの勝ち: 5, 負け：8, あいこ： 7\n",
      "1/1 [==============================] - 0s 3ms/sample - loss: 1.0194\n",
      "1\n",
      "[2]\n",
      "あなた：グー, コンピュータ：チョキ\n",
      "あなたの勝ち: 6, 負け：8, あいこ： 7\n",
      "1/1 [==============================] - 0s 2ms/sample - loss: 1.6089\n",
      "3\n",
      "[2]\n",
      "あなた：パー, コンピュータ：チョキ\n",
      "あなたの勝ち: 6, 負け：9, あいこ： 7\n",
      "1/1 [==============================] - 0s 3ms/sample - loss: 0.7043\n",
      "3\n",
      "[1]\n",
      "あなた：パー, コンピュータ：グー\n",
      "あなたの勝ち: 7, 負け：9, あいこ： 7\n",
      "1/1 [==============================] - 0s 3ms/sample - loss: 1.0889\n",
      "1\n",
      "[1]\n",
      "あなた：グー, コンピュータ：グー\n",
      "あなたの勝ち: 7, 負け：9, あいこ： 8\n",
      "1/1 [==============================] - 0s 2ms/sample - loss: 1.4665\n",
      "1\n",
      "[2]\n",
      "あなた：グー, コンピュータ：チョキ\n",
      "あなたの勝ち: 8, 負け：9, あいこ： 8\n",
      "1/1 [==============================] - 0s 2ms/sample - loss: 1.5196\n",
      "2\n",
      "[2]\n",
      "あなた：チョキ, コンピュータ：チョキ\n",
      "あなたの勝ち: 8, 負け：9, あいこ： 9\n",
      "1/1 [==============================] - 0s 2ms/sample - loss: 1.7499\n",
      "exit()\n"
     ]
    }
   ],
   "source": [
    "\n",
    "    print(\"1:グー、2:チョキ、3:パー\")\n",
    "    \n",
    "    win = 0\n",
    "    draw = 0\n",
    "    lose = 0\n",
    "    \n",
    "    try:\n",
    "        while True:\n",
    "            try:\n",
    "                j = int(input())-1\n",
    "                \n",
    "            except(SyntaxError,NameError,ValueError):\n",
    "                continue\n",
    "                \n",
    "            if j<0 or j>2:\n",
    "                continue\n",
    "            \n",
    "            Jprev_set = np.array([Jprev])\n",
    "            Jnow_set = np.array([j])\n",
    "            \n",
    "            #コンピュータが過去の手から人間の現在の手を予測\n",
    "            jpredict = model.predict_classes(Jprev_set)\n",
    "            print(jpredict)\n",
    "            \n",
    "            #人間の手を代入\n",
    "            your_choice = j\n",
    "            \n",
    "            #予測を元にコンピュータが決めた手\n",
    "            comp_choice = (jpredict[0]+2)%3\n",
    "            \n",
    "            #お互いの手の表示\n",
    "            print(\"あなた：\"+janken_class[your_choice]+\", コンピュータ：\"+janken_class[comp_choice])\n",
    "            \n",
    "            #スコアを記録\n",
    "            if your_choice == comp_choice:\n",
    "                draw += 1\n",
    "            elif your_choice == (comp_choice+1)%3:\n",
    "                lose += 1\n",
    "            else:\n",
    "                win += 1\n",
    "                \n",
    "            #勝敗の結果表示\n",
    "            print(\"あなたの勝ち: {0}, 負け：{1}, あいこ： {2}\".format(win,lose,draw))\n",
    "            \n",
    "            #過去の手（入力データ）と現在の手（ターゲット）とでオンライン学習\n",
    "            history = model.fit(Jprev_set,Jnow_set)\n",
    "            \n",
    "            #過去の手の末尾に現在のコンピュータの手を追加\n",
    "            Jprev = np.append(Jprev[3:], janken_array[comp_choice])\n",
    "            \n",
    "            #過去の手の末尾に現在の人間の手を追加\n",
    "            Jprev = np.append(Jprev[3:], janken_array[comp_choice])\n",
    "            \n",
    "    except KeyboardInterrupt:\n",
    "        pass\n",
    "            "
   ]
  },
  {
   "cell_type": "code",
   "execution_count": null,
   "metadata": {},
   "outputs": [],
   "source": []
  }
 ],
 "metadata": {
  "kernelspec": {
   "display_name": "Python 3",
   "language": "python",
   "name": "python3"
  },
  "language_info": {
   "codemirror_mode": {
    "name": "ipython",
    "version": 3
   },
   "file_extension": ".py",
   "mimetype": "text/x-python",
   "name": "python",
   "nbconvert_exporter": "python",
   "pygments_lexer": "ipython3",
   "version": "3.6.9"
  }
 },
 "nbformat": 4,
 "nbformat_minor": 2
}
